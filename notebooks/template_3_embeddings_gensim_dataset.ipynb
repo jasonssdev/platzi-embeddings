{
 "cells": [
  {
   "cell_type": "markdown",
   "metadata": {
    "id": "y6tfCay9SURW"
   },
   "source": [
    "# Word2Vec con Gensim"
   ]
  },
  {
   "cell_type": "markdown",
   "metadata": {
    "id": "F6yrJAHISZ4r"
   },
   "source": [
    "## Instalación de librerías y carga de dataset"
   ]
  },
  {
   "cell_type": "code",
   "execution_count": null,
   "metadata": {
    "id": "gSKi2-d-4dGG"
   },
   "outputs": [],
   "source": [
    "# !pip install datasets"
   ]
  },
  {
   "cell_type": "code",
   "execution_count": 1,
   "metadata": {},
   "outputs": [],
   "source": [
    "from gensim.models import Word2Vec\n",
    "import pandas as pd\n",
    "import re\n",
    "from gensim.parsing.preprocessing import strip_punctuation, strip_numeric, strip_short, stem_text\n",
    "from nltk.corpus import stopwords\n",
    "from nltk.tokenize import word_tokenize"
   ]
  },
  {
   "cell_type": "markdown",
   "metadata": {
    "id": "2zPrihz2VEHz"
   },
   "source": [
    "-------------------------"
   ]
  },
  {
   "cell_type": "code",
   "execution_count": 2,
   "metadata": {
    "id": "Q4ptd0PoVDi3"
   },
   "outputs": [
    {
     "data": {
      "application/vnd.jupyter.widget-view+json": {
       "model_id": "ea2a14f4ad2747e8b573c7d6fa52ffe6",
       "version_major": 2,
       "version_minor": 0
      },
      "text/plain": [
       "README.md:   0%|          | 0.00/8.26k [00:00<?, ?B/s]"
      ]
     },
     "metadata": {},
     "output_type": "display_data"
    },
    {
     "data": {
      "application/vnd.jupyter.widget-view+json": {
       "model_id": "61affff6587b489faa0e5f22f86bd092",
       "version_major": 2,
       "version_minor": 0
      },
      "text/plain": [
       "large_spanish_corpus.py:   0%|          | 0.00/3.93k [00:00<?, ?B/s]"
      ]
     },
     "metadata": {},
     "output_type": "display_data"
    },
    {
     "data": {
      "application/vnd.jupyter.widget-view+json": {
       "model_id": "b7f63e22c08b4b689f39141407b1cf91",
       "version_major": 2,
       "version_minor": 0
      },
      "text/plain": [
       "raw.zip:   0%|          | 0.00/5.79G [00:00<?, ?B/s]"
      ]
     },
     "metadata": {},
     "output_type": "display_data"
    },
    {
     "data": {
      "application/vnd.jupyter.widget-view+json": {
       "model_id": "b9d9f3df5f684832ae485afbad797c83",
       "version_major": 2,
       "version_minor": 0
      },
      "text/plain": [
       "Generating train split:   0%|          | 0/15510649 [00:00<?, ? examples/s]"
      ]
     },
     "metadata": {},
     "output_type": "display_data"
    }
   ],
   "source": [
    "from datasets import load_dataset\n",
    "\n",
    "dataset_corpus = load_dataset(\"large_spanish_corpus\", \"ParaCrawl\")"
   ]
  },
  {
   "cell_type": "code",
   "execution_count": 3,
   "metadata": {
    "id": "5hB0UvoHaScH"
   },
   "outputs": [
    {
     "data": {
      "text/plain": [
       "DatasetDict({\n",
       "    train: Dataset({\n",
       "        features: ['text'],\n",
       "        num_rows: 15510649\n",
       "    })\n",
       "})"
      ]
     },
     "execution_count": 3,
     "metadata": {},
     "output_type": "execute_result"
    }
   ],
   "source": [
    "dataset_corpus"
   ]
  },
  {
   "cell_type": "code",
   "execution_count": 3,
   "metadata": {
    "id": "cHY6Nq1fXIYu"
   },
   "outputs": [],
   "source": [
    "subset = dataset_corpus['train'].select(range(1000000))"
   ]
  },
  {
   "cell_type": "code",
   "execution_count": 4,
   "metadata": {},
   "outputs": [
    {
     "data": {
      "text/plain": [
       "{'text': ['Su presencia en la tierra como poderes fantasma operando a través de sustitutos humanos serán expuestos para que todos los vean.',\n",
       "  'Típica imagen de Hollywood de una invasión alienígena hostil por parte de naves aéreas extraterrestres de alta tecnología.',\n",
       "  'o combinación de los anteriores?',\n",
       "  'En la visión gnóstica, la divulgación o revelación no es el momento en que las Autoridades gubernamentales anuncian la presencia de extraterrestres en la tierra, haciéndolo así \"oficial\".',\n",
       "  'Nada hecho oficial en este mundo cuenta para nada más que para otra táctica en el engaño globalista, avanzando en la agenda de las Autoridades.',\n",
       "  'Sin embargo, para que los arcontes hagan su movimiento final, deberán revelarse.',\n",
       "  'Debido a que su naturaleza es el engaño, lo harán de forma engañosa.',\n",
       "  'Incluso al mostrar su presencia, jugando su carta de triunfo sobre la especie humana, ellos van a engañar, porque eso es todo lo que ellos hacen, todo lo que pueden hacer.',\n",
       "  'La prueba de ese momento cae sobre la humanidad: de ver cómo las Autoridades están estafando al mundo con su magia engañosa del control de la mente, las tan cacareada operaciones psicológicas globales.',\n",
       "  'Sophia tiene la intención de que la humanidad tenga la oportunidad de llevar a cabo el experimento divino que ella pensó originalmente para ella, libre de la desviación arcóntica - es decir, libre de la falsa coerción de las Autoridades que afirman que su agenda de dominación asegura la seguridad social y libertad del caos moral .']}"
      ]
     },
     "execution_count": 4,
     "metadata": {},
     "output_type": "execute_result"
    }
   ],
   "source": [
    "subset[50:60]"
   ]
  },
  {
   "cell_type": "code",
   "execution_count": 5,
   "metadata": {},
   "outputs": [
    {
     "data": {
      "text/plain": [
       "['text']"
      ]
     },
     "execution_count": 5,
     "metadata": {},
     "output_type": "execute_result"
    }
   ],
   "source": [
    "subset.column_names"
   ]
  },
  {
   "cell_type": "code",
   "execution_count": 6,
   "metadata": {},
   "outputs": [
    {
     "data": {
      "text/plain": [
       "['lavado de cerebro a través de los medios de comunicación, y amenaza de fuerza a través de los militares.',\n",
       " 'Sin un constante aluvión de doble cañón, requiriendo la complicidad de los seres humanos para reprimir y engañar a sus semejantes, su tan cacareada magia rápidamente se desvanecería y se disiparía.',\n",
       " 'En realidad, el Nuevo OM sólo se puede mantener la ilusión de supremacía mágica, siempre y cuando reprima y desvíe el potencial humano, donde mora la verdadera magia: es decir, en la capacidad innata de nuestra especie de magia interactiva con los poderes de animación de la diosa planetaria.',\n",
       " 'A menos que el Nuevo OM pueda todo el tiempo suprimir la capacidad de una manera brutal, natural y espontáneamente se afirmará a sí misma.',\n",
       " 'Cuando lo haga, la verdadera magia del Anthropos, el \"niño luminoso,\" entrará de inmediato en acción.']"
      ]
     },
     "execution_count": 6,
     "metadata": {},
     "output_type": "execute_result"
    }
   ],
   "source": [
    "subset['text'][0:5]"
   ]
  },
  {
   "cell_type": "code",
   "execution_count": 7,
   "metadata": {},
   "outputs": [
    {
     "data": {
      "text/plain": [
       "104"
      ]
     },
     "execution_count": 7,
     "metadata": {},
     "output_type": "execute_result"
    }
   ],
   "source": [
    "len(subset['text'][0])"
   ]
  },
  {
   "cell_type": "code",
   "execution_count": 8,
   "metadata": {},
   "outputs": [
    {
     "name": "stdout",
     "output_type": "stream",
     "text": [
      "/Users/jasonssdev/Dev/Learning/Platzi/platzi-embeddings\n"
     ]
    }
   ],
   "source": [
    "!pwd"
   ]
  },
  {
   "cell_type": "code",
   "execution_count": 12,
   "metadata": {},
   "outputs": [],
   "source": [
    "from paths import EXTERNAL_DIR, PREPROCESSED_DIR, MODEL_DIR\n"
   ]
  },
  {
   "cell_type": "code",
   "execution_count": 13,
   "metadata": {},
   "outputs": [
    {
     "name": "stderr",
     "output_type": "stream",
     "text": [
      "[nltk_data] Downloading package punkt to\n",
      "[nltk_data]     /Users/jasonssdev/Dev/Learning/Platzi/platzi-\n",
      "[nltk_data]     embeddings/data/external...\n",
      "[nltk_data]   Unzipping tokenizers/punkt.zip.\n",
      "[nltk_data] Downloading package stopwords to\n",
      "[nltk_data]     /Users/jasonssdev/Dev/Learning/Platzi/platzi-\n",
      "[nltk_data]     embeddings/data/external...\n"
     ]
    },
    {
     "name": "stdout",
     "output_type": "stream",
     "text": [
      "Frases: ['Hola, ¿cómo estás?', 'Esto es una prueba de tokenización.']\n",
      "Tokens: ['Hola', ',', '¿cómo', 'estás', '?', 'Esto', 'es', 'una', 'prueba', 'de', 'tokenización', '.']\n",
      "Tokens sin stopwords: ['Hola', ',', '¿cómo', '?', 'prueba', 'tokenización', '.']\n"
     ]
    },
    {
     "name": "stderr",
     "output_type": "stream",
     "text": [
      "[nltk_data]   Unzipping corpora/stopwords.zip.\n"
     ]
    }
   ],
   "source": [
    "import os\n",
    "import pickle\n",
    "import nltk\n",
    "from nltk.data import path as nltk_path\n",
    "from nltk.tokenize import TreebankWordTokenizer\n",
    "from nltk.corpus import stopwords\n",
    "\n",
    "# Ruta personalizada\n",
    "custom_path = EXTERNAL_DIR\n",
    "nltk_path.clear()\n",
    "nltk_path.append(custom_path)\n",
    "\n",
    "# Descargar recursos\n",
    "nltk.download('punkt', download_dir=custom_path)\n",
    "nltk.download('stopwords', download_dir=custom_path)\n",
    "\n",
    "# Cargar tokenizer de oraciones desde el .pickle (no falla)\n",
    "spanish_pickle_path = os.path.join(custom_path, \"tokenizers\", \"punkt\", \"spanish.pickle\")\n",
    "with open(spanish_pickle_path, \"rb\") as f:\n",
    "    sentence_tokenizer = pickle.load(f)\n",
    "\n",
    "# Reemplazo de word_tokenize sin usar sent_tokenize()\n",
    "word_tokenizer = TreebankWordTokenizer()\n",
    "\n",
    "# Texto de prueba\n",
    "text = \"Hola, ¿cómo estás? Esto es una prueba de tokenización.\"\n",
    "\n",
    "# Procesamiento\n",
    "sentences = sentence_tokenizer.tokenize(text)\n",
    "tokens = word_tokenizer.tokenize(text)  # SIN usar word_tokenize()\n",
    "filtered = [t for t in tokens if t.lower() not in stopwords.words(\"spanish\")]\n",
    "\n",
    "# Resultado\n",
    "print(\"Frases:\", sentences)\n",
    "print(\"Tokens:\", tokens)\n",
    "print(\"Tokens sin stopwords:\", filtered)"
   ]
  },
  {
   "cell_type": "markdown",
   "metadata": {
    "id": "bbtKlKd1UmF_"
   },
   "source": [
    "## Procesamiento de texto"
   ]
  },
  {
   "cell_type": "code",
   "execution_count": 14,
   "metadata": {
    "id": "cpOhY7jyRATr"
   },
   "outputs": [],
   "source": [
    "import re\n",
    "from nltk.corpus import stopwords\n",
    "from nltk.tokenize import TreebankWordTokenizer\n",
    "from gensim.parsing.preprocessing import strip_punctuation, strip_numeric, strip_short\n",
    "from nltk.data import path as nltk_path\n",
    "import os\n",
    "\n",
    "def clean_text(sentence_batch):\n",
    "    # Ajusta path a recursos NLTK\n",
    "    custom_path = EXTERNAL_DIR\n",
    "    nltk_path.clear()\n",
    "    nltk_path.append(custom_path)\n",
    "\n",
    "    # Tokenizador sin dependencia de sent_tokenize\n",
    "    tokenizer = TreebankWordTokenizer()\n",
    "    stop_words = set(stopwords.words('spanish'))\n",
    "\n",
    "    cleaned_text_list = []\n",
    "\n",
    "    for text in sentence_batch['text']:\n",
    "        # Minúsculas\n",
    "        text = text.lower()\n",
    "\n",
    "        # Eliminar URLs\n",
    "        text = re.sub(r'http\\S+|www\\S+|https\\S+', '', text)\n",
    "\n",
    "        # Eliminar menciones y hashtags\n",
    "        text = re.sub(r'\\@\\w+|\\#\\w+', '', text)\n",
    "\n",
    "        # Eliminar puntuación, números, palabras cortas\n",
    "        text = strip_punctuation(text)\n",
    "        text = strip_numeric(text)\n",
    "        text = strip_short(text, minsize=2)\n",
    "\n",
    "        # Tokenizar y filtrar stopwords\n",
    "        tokens = tokenizer.tokenize(text)\n",
    "        filtered = [word for word in tokens if word not in stop_words]\n",
    "\n",
    "        cleaned_text_list.append(filtered)\n",
    "\n",
    "    return {'text': cleaned_text_list}\n"
   ]
  },
  {
   "cell_type": "code",
   "execution_count": 15,
   "metadata": {},
   "outputs": [
    {
     "data": {
      "application/vnd.jupyter.widget-view+json": {
       "model_id": "7143c6e954244a4194913d0a101cd9eb",
       "version_major": 2,
       "version_minor": 0
      },
      "text/plain": [
       "Map:   0%|          | 0/1000000 [00:00<?, ? examples/s]"
      ]
     },
     "metadata": {},
     "output_type": "display_data"
    }
   ],
   "source": [
    "sentences_corpus = subset.map(clean_text, batched=True)"
   ]
  },
  {
   "cell_type": "code",
   "execution_count": 16,
   "metadata": {
    "id": "xC_1SRrnYJWv"
   },
   "outputs": [
    {
     "data": {
      "text/plain": [
       "[['lavado',\n",
       "  'cerebro',\n",
       "  'través',\n",
       "  'medios',\n",
       "  'comunicación',\n",
       "  'amenaza',\n",
       "  'fuerza',\n",
       "  'través',\n",
       "  'militares'],\n",
       " ['constante',\n",
       "  'aluvión',\n",
       "  'doble',\n",
       "  'cañón',\n",
       "  'requiriendo',\n",
       "  'complicidad',\n",
       "  'seres',\n",
       "  'humanos',\n",
       "  'reprimir',\n",
       "  'engañar',\n",
       "  'semejantes',\n",
       "  'tan',\n",
       "  'cacareada',\n",
       "  'magia',\n",
       "  'rápidamente',\n",
       "  'desvanecería',\n",
       "  'disiparía'],\n",
       " ['realidad',\n",
       "  'nuevo',\n",
       "  'om',\n",
       "  'sólo',\n",
       "  'puede',\n",
       "  'mantener',\n",
       "  'ilusión',\n",
       "  'supremacía',\n",
       "  'mágica',\n",
       "  'siempre',\n",
       "  'reprima',\n",
       "  'desvíe',\n",
       "  'potencial',\n",
       "  'humano',\n",
       "  'mora',\n",
       "  'verdadera',\n",
       "  'magia',\n",
       "  'decir',\n",
       "  'capacidad',\n",
       "  'innata',\n",
       "  'especie',\n",
       "  'magia',\n",
       "  'interactiva',\n",
       "  'poderes',\n",
       "  'animación',\n",
       "  'diosa',\n",
       "  'planetaria']]"
      ]
     },
     "execution_count": 16,
     "metadata": {},
     "output_type": "execute_result"
    }
   ],
   "source": [
    "sentences_corpus['text'][:3]"
   ]
  },
  {
   "cell_type": "markdown",
   "metadata": {
    "id": "4J-HBL-FVxKc"
   },
   "source": [
    "## Carga y uso de modelo de embeddings Word2Vec"
   ]
  },
  {
   "cell_type": "code",
   "execution_count": 19,
   "metadata": {
    "id": "H7E121yKbljm"
   },
   "outputs": [],
   "source": [
    "model = Word2Vec(sentences_corpus['text'], vector_size=100, window=5, min_count= 2, workers=6, sg=1)\n",
    "\n",
    "# Podemos guardar el modelo para uso futuro\n",
    "model.save(str(MODEL_DIR / \"word2vec.model\"))"
   ]
  },
  {
   "cell_type": "code",
   "execution_count": 20,
   "metadata": {
    "id": "p-Qho2ckg0xd"
   },
   "outputs": [
    {
     "data": {
      "text/plain": [
       "array([-0.47937593, -0.3831423 , -0.06481041, -0.07753158,  0.6928192 ,\n",
       "       -0.5794136 , -0.5202905 ,  0.7734786 ,  0.00183759, -0.27497357,\n",
       "        0.85613036, -0.00316433, -0.5910289 ,  0.0725292 , -0.35412854,\n",
       "       -0.08596682, -0.26365292, -0.15277614,  0.3343955 , -0.5577177 ,\n",
       "        0.6389611 ,  0.4514262 ,  0.49614498,  0.5312587 , -0.77791405,\n",
       "        0.29720533,  0.4210784 , -0.09564296, -0.02371523,  0.13019633,\n",
       "        0.48555192,  0.83301187,  0.01793909,  0.1170058 ,  0.15098888,\n",
       "        0.04077627, -0.31504983, -0.00433208, -0.11179899, -0.7155297 ,\n",
       "        0.44520435,  0.19448523, -0.20823231,  0.03170553,  0.6631973 ,\n",
       "        0.0462411 ,  0.16586861,  0.05166656,  0.41579166, -0.3451824 ,\n",
       "       -0.6089546 , -0.06496011, -0.27581486, -0.17109436,  0.3633472 ,\n",
       "        0.27295038, -0.30885792, -0.16329132, -0.27186024, -1.1880025 ,\n",
       "       -0.10907684, -0.6860347 , -0.0441788 , -0.00233871, -0.525277  ,\n",
       "        0.5364564 , -0.19262186,  0.7523603 , -0.17396475,  0.19593646,\n",
       "       -0.21484818,  0.5779419 ,  0.47091737, -0.34847546,  0.661799  ,\n",
       "       -0.46686175,  0.22671913,  0.62725234,  0.11521254,  0.5452399 ,\n",
       "       -0.2166242 , -0.4546115 , -0.23945491,  0.27980107,  0.42196158,\n",
       "       -0.8548292 ,  0.3322678 ,  1.2156212 , -0.2966601 , -0.20373316,\n",
       "        0.29244256, -0.25280994,  0.5281866 ,  0.33038598,  0.4786319 ,\n",
       "        0.69354993,  0.4859936 , -0.3906728 , -0.17399108,  0.18253212],\n",
       "      dtype=float32)"
      ]
     },
     "execution_count": 20,
     "metadata": {},
     "output_type": "execute_result"
    }
   ],
   "source": [
    "model.wv['rey']"
   ]
  },
  {
   "cell_type": "code",
   "execution_count": 21,
   "metadata": {
    "id": "z1ssleSObsUc"
   },
   "outputs": [
    {
     "data": {
      "text/plain": [
       "[('comer', 0.7552511692047119),\n",
       " ('comidas', 0.7536572813987732),\n",
       " ('bebida', 0.7412852644920349)]"
      ]
     },
     "execution_count": 21,
     "metadata": {},
     "output_type": "execute_result"
    }
   ],
   "source": [
    "##comida, ser, reina, television\n",
    "model.wv.most_similar(['comida'],topn=3)\n"
   ]
  },
  {
   "cell_type": "code",
   "execution_count": 22,
   "metadata": {
    "id": "ytaIZOJHiUrj"
   },
   "outputs": [],
   "source": [
    "word_vectors = model.wv\n",
    "vectors = word_vectors.vectors\n",
    "words = word_vectors.index_to_key"
   ]
  },
  {
   "cell_type": "markdown",
   "metadata": {
    "id": "_y9DpAyLWCVN"
   },
   "source": [
    "## Almacenamiento de embeddings"
   ]
  },
  {
   "cell_type": "code",
   "execution_count": 23,
   "metadata": {
    "id": "vYeA70cVnQ_J"
   },
   "outputs": [],
   "source": [
    "df_vectors = pd.DataFrame(vectors)\n",
    "df_vectors.to_csv(path_or_buf=(str(PREPROCESSED_DIR / \"embeddings.tsv\")),sep='\\t', index=False)"
   ]
  },
  {
   "cell_type": "code",
   "execution_count": 24,
   "metadata": {
    "id": "-tiIoHVLn85G"
   },
   "outputs": [],
   "source": [
    "df_words = pd.DataFrame(words)\n",
    "df_words.to_csv(path_or_buf=(str(PREPROCESSED_DIR /'labels.tsv')),sep='\\t', index=False)"
   ]
  },
  {
   "cell_type": "code",
   "execution_count": null,
   "metadata": {},
   "outputs": [],
   "source": []
  }
 ],
 "metadata": {
  "colab": {
   "provenance": []
  },
  "kernelspec": {
   "display_name": "emb-py3.11",
   "language": "python",
   "name": "python3"
  },
  "language_info": {
   "codemirror_mode": {
    "name": "ipython",
    "version": 3
   },
   "file_extension": ".py",
   "mimetype": "text/x-python",
   "name": "python",
   "nbconvert_exporter": "python",
   "pygments_lexer": "ipython3",
   "version": "3.11.11"
  }
 },
 "nbformat": 4,
 "nbformat_minor": 0
}
