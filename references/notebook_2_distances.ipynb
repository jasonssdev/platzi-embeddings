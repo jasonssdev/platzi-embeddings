{
 "cells": [
  {
   "cell_type": "markdown",
   "metadata": {
    "id": "cWRfYFSJPWOY"
   },
   "source": [
    "# Cálculo de distancias de vectores con NumPy"
   ]
  },
  {
   "cell_type": "markdown",
   "metadata": {
    "id": "60-iW1o6PM2D"
   },
   "source": [
    "## Importar NumPy y cargar vectores"
   ]
  },
  {
   "cell_type": "code",
   "execution_count": null,
   "metadata": {
    "id": "I0BwH8n4O0lV",
    "pycharm": {
     "name": "#%%\n"
    }
   },
   "outputs": [],
   "source": [
    "import numpy as np"
   ]
  },
  {
   "cell_type": "code",
   "execution_count": null,
   "metadata": {
    "id": "E3rSz1hGO0lW",
    "pycharm": {
     "name": "#%%\n"
    }
   },
   "outputs": [],
   "source": [
    "gato = np.array([0.9, 0.8, 0.2])\n",
    "perro = np.array([0.8, 0.85, 0.15])\n",
    "computadora = np.array([0.1, 0.3, 0.9])"
   ]
  },
  {
   "cell_type": "markdown",
   "metadata": {
    "collapsed": false,
    "id": "rYhTz4q8O0lX",
    "pycharm": {
     "name": "#%% md\n"
    }
   },
   "source": [
    "## Dot product"
   ]
  },
  {
   "cell_type": "code",
   "execution_count": null,
   "metadata": {
    "colab": {
     "base_uri": "https://localhost:8080/"
    },
    "executionInfo": {
     "elapsed": 3,
     "status": "ok",
     "timestamp": 1690912944028,
     "user": {
      "displayName": "Carlos Alarcón",
      "userId": "15349885202925550395"
     },
     "user_tz": 300
    },
    "id": "QVWTk69SO0lY",
    "outputId": "1bac75f4-d530-4cb5-e62f-76091eb13aee",
    "pycharm": {
     "name": "#%%\n"
    }
   },
   "outputs": [
    {
     "name": "stdout",
     "output_type": "stream",
     "text": [
      "Producto punto gato-perro:  1.4300000000000002\n",
      "Producto punto gato-computadora:  0.51\n"
     ]
    }
   ],
   "source": [
    "dot_product_gato_perro = np.dot(gato,perro)\n",
    "dot_product_gato_computadora = np.dot(gato, computadora)\n",
    "\n",
    "print('Producto punto gato-perro: ', dot_product_gato_perro )\n",
    "print('Producto punto gato-computadora: ',dot_product_gato_computadora )\n"
   ]
  },
  {
   "cell_type": "markdown",
   "metadata": {
    "collapsed": false,
    "id": "ozM8DAc3O0lZ",
    "pycharm": {
     "name": "#%% md\n"
    }
   },
   "source": [
    "## Euclidean distance"
   ]
  },
  {
   "cell_type": "code",
   "execution_count": null,
   "metadata": {
    "colab": {
     "base_uri": "https://localhost:8080/"
    },
    "executionInfo": {
     "elapsed": 294,
     "status": "ok",
     "timestamp": 1690912976654,
     "user": {
      "displayName": "Carlos Alarcón",
      "userId": "15349885202925550395"
     },
     "user_tz": 300
    },
    "id": "YpHLRl4xO0lZ",
    "outputId": "4c4f7e25-6edc-4f5b-af32-af515fcfbbda",
    "pycharm": {
     "name": "#%%\n"
    }
   },
   "outputs": [
    {
     "name": "stdout",
     "output_type": "stream",
     "text": [
      "0.12247448713915887\n"
     ]
    }
   ],
   "source": [
    "euclidean_distance = np.linalg.norm(gato-perro)\n",
    "\n",
    "print(euclidean_distance)"
   ]
  },
  {
   "cell_type": "code",
   "execution_count": null,
   "metadata": {
    "colab": {
     "base_uri": "https://localhost:8080/"
    },
    "executionInfo": {
     "elapsed": 3,
     "status": "ok",
     "timestamp": 1690912988508,
     "user": {
      "displayName": "Carlos Alarcón",
      "userId": "15349885202925550395"
     },
     "user_tz": 300
    },
    "id": "Tt2ttkF1RHww",
    "outputId": "b5e59018-2f83-4b14-b724-99383ce00556"
   },
   "outputs": [
    {
     "name": "stdout",
     "output_type": "stream",
     "text": [
      "1.174734012447073\n"
     ]
    }
   ],
   "source": [
    "euclidean_distance = np.linalg.norm(gato-computadora)\n",
    "\n",
    "print(euclidean_distance)"
   ]
  },
  {
   "cell_type": "markdown",
   "metadata": {
    "collapsed": false,
    "id": "PUCbNs9cO0la",
    "pycharm": {
     "name": "#%% md\n"
    }
   },
   "source": [
    "## Cosine similarity"
   ]
  },
  {
   "cell_type": "code",
   "execution_count": null,
   "metadata": {
    "colab": {
     "base_uri": "https://localhost:8080/"
    },
    "executionInfo": {
     "elapsed": 2,
     "status": "ok",
     "timestamp": 1690913051208,
     "user": {
      "displayName": "Carlos Alarcón",
      "userId": "15349885202925550395"
     },
     "user_tz": 300
    },
    "id": "QuWfDgyMO0la",
    "outputId": "72b19be3-92bd-48aa-fd62-63ebb353a12e",
    "pycharm": {
     "name": "#%%\n"
    }
   },
   "outputs": [
    {
     "name": "stdout",
     "output_type": "stream",
     "text": [
      "0.9954467122628464\n"
     ]
    }
   ],
   "source": [
    "dot_product = np.dot(gato, perro)\n",
    "\n",
    "norm_gato = np.linalg.norm(gato)\n",
    "norm_perro = np.linalg.norm(perro)\n",
    "\n",
    "cosine_similarity = dot_product / (norm_gato * norm_perro)\n",
    "print(cosine_similarity)"
   ]
  },
  {
   "cell_type": "code",
   "execution_count": null,
   "metadata": {
    "colab": {
     "base_uri": "https://localhost:8080/"
    },
    "executionInfo": {
     "elapsed": 212,
     "status": "ok",
     "timestamp": 1690913066286,
     "user": {
      "displayName": "Carlos Alarcón",
      "userId": "15349885202925550395"
     },
     "user_tz": 300
    },
    "id": "F-g-z856RbAW",
    "outputId": "0015650f-0473-4cb7-8b95-a1ea17f2a04d"
   },
   "outputs": [
    {
     "data": {
      "text/plain": [
       "0.004553287737153577"
      ]
     },
     "execution_count": 9,
     "metadata": {},
     "output_type": "execute_result"
    }
   ],
   "source": [
    "1-cosine_similarity"
   ]
  }
 ],
 "metadata": {
  "colab": {
   "provenance": []
  },
  "kernelspec": {
   "display_name": "emb-py3.11",
   "language": "python",
   "name": "python3"
  },
  "language_info": {
   "codemirror_mode": {
    "name": "ipython",
    "version": 2
   },
   "file_extension": ".py",
   "mimetype": "text/x-python",
   "name": "python",
   "nbconvert_exporter": "python",
   "pygments_lexer": "ipython2",
   "version": "3.11.11"
  }
 },
 "nbformat": 4,
 "nbformat_minor": 0
}
