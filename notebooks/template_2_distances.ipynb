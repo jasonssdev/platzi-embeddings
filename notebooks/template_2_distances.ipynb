{
 "cells": [
  {
   "cell_type": "markdown",
   "metadata": {
    "id": "cWRfYFSJPWOY"
   },
   "source": [
    "# Cálculo de distancias de vectores con NumPy"
   ]
  },
  {
   "cell_type": "markdown",
   "metadata": {
    "id": "60-iW1o6PM2D"
   },
   "source": [
    "## Importar NumPy y cargar vectores"
   ]
  },
  {
   "cell_type": "code",
   "execution_count": 1,
   "metadata": {
    "id": "I0BwH8n4O0lV",
    "pycharm": {
     "name": "#%%\n"
    }
   },
   "outputs": [],
   "source": [
    "import numpy as np"
   ]
  },
  {
   "cell_type": "code",
   "execution_count": 3,
   "metadata": {
    "id": "E3rSz1hGO0lW",
    "pycharm": {
     "name": "#%%\n"
    }
   },
   "outputs": [],
   "source": [
    "gato = np.array([0.9, 0.8, 0.2])\n",
    "perro = np.array([0.8, 0.85, 0.15])\n",
    "computadora = np.array([0.1, 0.3, 0.9])"
   ]
  },
  {
   "cell_type": "markdown",
   "metadata": {
    "collapsed": false,
    "id": "rYhTz4q8O0lX",
    "pycharm": {
     "name": "#%% md\n"
    }
   },
   "source": [
    "## Dot product"
   ]
  },
  {
   "cell_type": "code",
   "execution_count": 4,
   "metadata": {
    "id": "QVWTk69SO0lY",
    "pycharm": {
     "name": "#%%\n"
    }
   },
   "outputs": [
    {
     "name": "stdout",
     "output_type": "stream",
     "text": [
      "Producto punto gato-perro:  1.4300000000000002\n",
      "Producto punto gato-computadora:  0.51\n"
     ]
    }
   ],
   "source": [
    "dot_product_gato_perro = np.dot(gato,perro)\n",
    "dot_product_gato_computadora = np.dot(gato, computadora)\n",
    "\n",
    "print('Producto punto gato-perro: ', dot_product_gato_perro )\n",
    "print('Producto punto gato-computadora: ',dot_product_gato_computadora )\n"
   ]
  },
  {
   "cell_type": "markdown",
   "metadata": {
    "collapsed": false,
    "id": "ozM8DAc3O0lZ",
    "pycharm": {
     "name": "#%% md\n"
    }
   },
   "source": [
    "## Euclidean distance"
   ]
  },
  {
   "cell_type": "code",
   "execution_count": 5,
   "metadata": {
    "id": "YpHLRl4xO0lZ",
    "pycharm": {
     "name": "#%%\n"
    }
   },
   "outputs": [
    {
     "name": "stdout",
     "output_type": "stream",
     "text": [
      "0.12247448713915887\n"
     ]
    }
   ],
   "source": [
    "euclidean_distance = np.linalg.norm(gato-perro)\n",
    "\n",
    "print(euclidean_distance)"
   ]
  },
  {
   "cell_type": "code",
   "execution_count": 6,
   "metadata": {},
   "outputs": [
    {
     "name": "stdout",
     "output_type": "stream",
     "text": [
      "1.174734012447073\n"
     ]
    }
   ],
   "source": [
    "euclidean_distance = np.linalg.norm(gato-computadora)\n",
    "\n",
    "print(euclidean_distance)"
   ]
  },
  {
   "cell_type": "markdown",
   "metadata": {
    "collapsed": false,
    "id": "PUCbNs9cO0la",
    "pycharm": {
     "name": "#%% md\n"
    }
   },
   "source": [
    "## Cosine similarity"
   ]
  },
  {
   "cell_type": "code",
   "execution_count": 7,
   "metadata": {
    "id": "QuWfDgyMO0la",
    "pycharm": {
     "name": "#%%\n"
    }
   },
   "outputs": [
    {
     "name": "stdout",
     "output_type": "stream",
     "text": [
      "0.9954467122628464\n"
     ]
    }
   ],
   "source": [
    "dot_product = np.dot(gato, perro)\n",
    "\n",
    "norm_gato = np.linalg.norm(gato)\n",
    "norm_perro = np.linalg.norm(perro)\n",
    "\n",
    "cosine_similarity = dot_product / (norm_gato * norm_perro)\n",
    "print(cosine_similarity)"
   ]
  },
  {
   "cell_type": "code",
   "execution_count": 8,
   "metadata": {},
   "outputs": [
    {
     "data": {
      "text/plain": [
       "np.float64(0.004553287737153577)"
      ]
     },
     "execution_count": 8,
     "metadata": {},
     "output_type": "execute_result"
    }
   ],
   "source": [
    "1-cosine_similarity"
   ]
  },
  {
   "cell_type": "code",
   "execution_count": 9,
   "metadata": {},
   "outputs": [],
   "source": [
    "\"\"\"Calcula la distancia entre las palabras siguientes:\n",
    "\n",
    "- rey y hombre\n",
    "- hombre y niÃ±o\n",
    "- reyna y mujer\n",
    "- mujer y niÃ±a\n",
    "- rey y reina\n",
    "- hombre y mujer\n",
    "\n",
    "Utiliza la mÃ©trica de distancia que prefieras.\n",
    "\"\"\"\n",
    "\n",
    "\n",
    "#palabras en vectores\n",
    "rey = np.array([1,7,8])\n",
    "hombre = np.array([1,7,0])\n",
    "mujer = np.array([9,7,0])\n",
    "reina= np.array([9,7,8])\n",
    "nino = np.array([1,2,0])\n",
    "nina = np.array([9,2,0])"
   ]
  },
  {
   "cell_type": "code",
   "execution_count": 10,
   "metadata": {},
   "outputs": [
    {
     "name": "stdout",
     "output_type": "stream",
     "text": [
      "Producto punto rey-hombre:  50\n",
      "Producto punto rey-niño:  15\n",
      "Producto punto hombre-niña:  23\n",
      "Producto punto reina-mujer:  130\n",
      "Producto punto mujer-niña:  95\n",
      "Producto punto hombre-mujer:  58\n"
     ]
    }
   ],
   "source": [
    "# Dot Product\n",
    "dot_product_rey_hombre = np.dot(rey,hombre)\n",
    "dot_product_rey_nino = np.dot(rey,nino)\n",
    "dot_product_hombre_nina = np.dot(hombre,nina)\n",
    "dot_product_reina_mujer = np.dot(reina,mujer)\n",
    "dot_product_mujer_nina = np.dot(mujer,nina)\n",
    "dot_product_hombre_mujer = np.dot(hombre,mujer)\n",
    "print('Producto punto rey-hombre: ', dot_product_rey_hombre )\n",
    "print('Producto punto rey-niño: ', dot_product_rey_nino )\n",
    "print('Producto punto hombre-niña: ', dot_product_hombre_nina )\n",
    "print('Producto punto reina-mujer: ', dot_product_reina_mujer )\n",
    "print('Producto punto mujer-niña: ', dot_product_mujer_nina )\n",
    "print('Producto punto hombre-mujer: ', dot_product_hombre_mujer )"
   ]
  },
  {
   "cell_type": "code",
   "execution_count": 11,
   "metadata": {},
   "outputs": [
    {
     "name": "stdout",
     "output_type": "stream",
     "text": [
      "Distancia euclideana rey-hombre:  8.0\n",
      "Distancia euclideana rey-niño:  9.433981132056603\n",
      "Distancia euclideana hombre-niña:  9.433981132056603\n",
      "Distancia euclideana reina-mujer:  8.0\n",
      "Distancia euclideana mujer-niña:  5.0\n",
      "Distancia euclideana hombre-mujer:  8.0\n"
     ]
    }
   ],
   "source": [
    "# Euclidean Distance\n",
    "euclidean_distance_rey_hombre = np.linalg.norm(rey-hombre)\n",
    "euclidean_distance_rey_nino = np.linalg.norm(rey-nino)\n",
    "euclidean_distance_hombre_nina = np.linalg.norm(hombre-nina)\n",
    "euclidean_distance_reina_mujer = np.linalg.norm(reina-mujer)\n",
    "euclidean_distance_mujer_nina = np.linalg.norm(mujer-nina)\n",
    "euclidean_distance_hombre_mujer = np.linalg.norm(hombre-mujer)\n",
    "print('Distancia euclideana rey-hombre: ', euclidean_distance_rey_hombre )\n",
    "print('Distancia euclideana rey-niño: ', euclidean_distance_rey_nino )\n",
    "print('Distancia euclideana hombre-niña: ', euclidean_distance_hombre_nina )\n",
    "print('Distancia euclideana reina-mujer: ', euclidean_distance_reina_mujer )\n",
    "print('Distancia euclideana mujer-niña: ', euclidean_distance_mujer_nina )\n",
    "print('Distancia euclideana hombre-mujer: ', euclidean_distance_hombre_mujer )"
   ]
  },
  {
   "cell_type": "code",
   "execution_count": 12,
   "metadata": {},
   "outputs": [
    {
     "name": "stdout",
     "output_type": "stream",
     "text": [
      "Similitud coseno rey-hombre:  0.6622661785325218\n",
      "Similitud coseno rey-niño:  0.6282808624375432\n",
      "Similitud coseno hombre-niña:  0.3528038948697904\n",
      "Similitud coseno reina-mujer:  0.8185982487053739\n",
      "Similitud coseno mujer-niña:  0.9037378388935388\n",
      "Similitud coseno hombre-mujer:  0.7194014606174091\n"
     ]
    }
   ],
   "source": [
    "# Cosine Similarity\n",
    "dot_product_rey_hombre = np.dot(rey,hombre)\n",
    "norm_rey = np.linalg.norm(rey)\n",
    "norm_hombre = np.linalg.norm(hombre)\n",
    "cosine_similarity_rey_hombre = dot_product_rey_hombre / (norm_rey * norm_hombre)\n",
    "print('Similitud coseno rey-hombre: ', cosine_similarity_rey_hombre)\n",
    "\n",
    "dot_product_rey_nino = np.dot(rey,nino)\n",
    "norm_rey = np.linalg.norm(rey)\n",
    "norm_nino = np.linalg.norm(nino)\n",
    "cosine_similarity_rey_nino = dot_product_rey_nino / (norm_rey * norm_nino)\n",
    "print('Similitud coseno rey-niño: ', cosine_similarity_rey_nino)\n",
    "\n",
    "dot_product_hombre_nina = np.dot(hombre,nina)\n",
    "norm_hombre = np.linalg.norm(hombre)\n",
    "norm_nina = np.linalg.norm(nina)\n",
    "cosine_similarity_hombre_nina = dot_product_hombre_nina / (norm_hombre * norm_nina)\n",
    "print('Similitud coseno hombre-niña: ', cosine_similarity_hombre_nina)\n",
    "\n",
    "dot_product_reina_mujer = np.dot(reina,mujer)\n",
    "norm_reina = np.linalg.norm(reina)\n",
    "norm_mujer = np.linalg.norm(mujer)\n",
    "cosine_similarity_reina_mujer = dot_product_reina_mujer / (norm_reina * norm_mujer)\n",
    "print('Similitud coseno reina-mujer: ', cosine_similarity_reina_mujer)\n",
    "\n",
    "dot_product_mujer_nina = np.dot(mujer,nina)\n",
    "norm_mujer = np.linalg.norm(mujer)\n",
    "norm_nina = np.linalg.norm(nina)\n",
    "cosine_similarity_mujer_nina = dot_product_mujer_nina / (norm_mujer * norm_nina)\n",
    "print('Similitud coseno mujer-niña: ', cosine_similarity_mujer_nina)\n",
    "\n",
    "dot_product_hombre_mujer = np.dot(hombre,mujer)\n",
    "norm_hombre = np.linalg.norm(hombre)\n",
    "norm_mujer = np.linalg.norm(mujer)\n",
    "cosine_similarity_hombre_mujer = dot_product_hombre_mujer / (norm_hombre * norm_mujer)\n",
    "print('Similitud coseno hombre-mujer: ', cosine_similarity_hombre_mujer)"
   ]
  },
  {
   "cell_type": "code",
   "execution_count": null,
   "metadata": {},
   "outputs": [],
   "source": []
  }
 ],
 "metadata": {
  "colab": {
   "provenance": []
  },
  "kernelspec": {
   "display_name": "emb-py3.11",
   "language": "python",
   "name": "python3"
  },
  "language_info": {
   "codemirror_mode": {
    "name": "ipython",
    "version": 3
   },
   "file_extension": ".py",
   "mimetype": "text/x-python",
   "name": "python",
   "nbconvert_exporter": "python",
   "pygments_lexer": "ipython3",
   "version": "3.11.11"
  }
 },
 "nbformat": 4,
 "nbformat_minor": 0
}
