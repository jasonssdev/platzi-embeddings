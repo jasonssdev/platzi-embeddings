{
 "cells": [
  {
   "cell_type": "markdown",
   "metadata": {
    "id": "y6tfCay9SURW"
   },
   "source": [
    "# Word2Vec con Gensim"
   ]
  },
  {
   "cell_type": "markdown",
   "metadata": {
    "id": "F6yrJAHISZ4r"
   },
   "source": [
    "## Instalación de librerías y carga de dataset"
   ]
  },
  {
   "cell_type": "code",
   "execution_count": null,
   "metadata": {
    "id": "gSKi2-d-4dGG"
   },
   "outputs": [],
   "source": [
    "# !pip install datasets"
   ]
  },
  {
   "cell_type": "code",
   "execution_count": 1,
   "metadata": {
    "id": "jip7NEukg99Q"
   },
   "outputs": [],
   "source": [
    "from gensim.models import Word2Vec\n",
    "import pandas as pd\n",
    "import re\n",
    "from gensim.parsing.preprocessing import strip_punctuation, strip_numeric, strip_short, stem_text\n",
    "from nltk.corpus import stopwords\n",
    "from nltk.tokenize import word_tokenize"
   ]
  },
  {
   "cell_type": "markdown",
   "metadata": {
    "id": "2zPrihz2VEHz"
   },
   "source": [
    "-------------------------"
   ]
  },
  {
   "cell_type": "code",
   "execution_count": 2,
   "metadata": {
    "id": "Q4ptd0PoVDi3"
   },
   "outputs": [
    {
     "data": {
      "application/vnd.jupyter.widget-view+json": {
       "model_id": "180575b9cea34183a7911182f950de67",
       "version_major": 2,
       "version_minor": 0
      },
      "text/plain": [
       "README.md:   0%|          | 0.00/8.26k [00:00<?, ?B/s]"
      ]
     },
     "metadata": {},
     "output_type": "display_data"
    },
    {
     "data": {
      "application/vnd.jupyter.widget-view+json": {
       "model_id": "50c6baddbd34433897f4816e58080606",
       "version_major": 2,
       "version_minor": 0
      },
      "text/plain": [
       "large_spanish_corpus.py:   0%|          | 0.00/3.93k [00:00<?, ?B/s]"
      ]
     },
     "metadata": {},
     "output_type": "display_data"
    },
    {
     "data": {
      "application/vnd.jupyter.widget-view+json": {
       "model_id": "6f5fe2bd6757418781ccb8ac42f95be5",
       "version_major": 2,
       "version_minor": 0
      },
      "text/plain": [
       "raw.zip:   0%|          | 0.00/5.79G [00:00<?, ?B/s]"
      ]
     },
     "metadata": {},
     "output_type": "display_data"
    },
    {
     "data": {
      "application/vnd.jupyter.widget-view+json": {
       "model_id": "60c6022711514ebfa9a30d5cfde1ea8f",
       "version_major": 2,
       "version_minor": 0
      },
      "text/plain": [
       "Generating train split:   0%|          | 0/15510649 [00:00<?, ? examples/s]"
      ]
     },
     "metadata": {},
     "output_type": "display_data"
    }
   ],
   "source": [
    "from datasets import load_dataset\n",
    "\n",
    "dataset_corpus = load_dataset(\"large_spanish_corpus\", \"ParaCrawl\")"
   ]
  },
  {
   "cell_type": "code",
   "execution_count": 3,
   "metadata": {
    "id": "5hB0UvoHaScH"
   },
   "outputs": [
    {
     "data": {
      "text/plain": [
       "DatasetDict({\n",
       "    train: Dataset({\n",
       "        features: ['text'],\n",
       "        num_rows: 15510649\n",
       "    })\n",
       "})"
      ]
     },
     "execution_count": 3,
     "metadata": {},
     "output_type": "execute_result"
    }
   ],
   "source": [
    "dataset_corpus"
   ]
  },
  {
   "cell_type": "code",
   "execution_count": 4,
   "metadata": {
    "id": "cHY6Nq1fXIYu"
   },
   "outputs": [],
   "source": [
    "subset = dataset_corpus['train'].select(range(1000000))"
   ]
  },
  {
   "cell_type": "code",
   "execution_count": 6,
   "metadata": {},
   "outputs": [
    {
     "data": {
      "text/plain": [
       "{'text': ['Su presencia en la tierra como poderes fantasma operando a través de sustitutos humanos serán expuestos para que todos los vean.',\n",
       "  'Típica imagen de Hollywood de una invasión alienígena hostil por parte de naves aéreas extraterrestres de alta tecnología.',\n",
       "  'o combinación de los anteriores?',\n",
       "  'En la visión gnóstica, la divulgación o revelación no es el momento en que las Autoridades gubernamentales anuncian la presencia de extraterrestres en la tierra, haciéndolo así \"oficial\".',\n",
       "  'Nada hecho oficial en este mundo cuenta para nada más que para otra táctica en el engaño globalista, avanzando en la agenda de las Autoridades.',\n",
       "  'Sin embargo, para que los arcontes hagan su movimiento final, deberán revelarse.',\n",
       "  'Debido a que su naturaleza es el engaño, lo harán de forma engañosa.',\n",
       "  'Incluso al mostrar su presencia, jugando su carta de triunfo sobre la especie humana, ellos van a engañar, porque eso es todo lo que ellos hacen, todo lo que pueden hacer.',\n",
       "  'La prueba de ese momento cae sobre la humanidad: de ver cómo las Autoridades están estafando al mundo con su magia engañosa del control de la mente, las tan cacareada operaciones psicológicas globales.',\n",
       "  'Sophia tiene la intención de que la humanidad tenga la oportunidad de llevar a cabo el experimento divino que ella pensó originalmente para ella, libre de la desviación arcóntica - es decir, libre de la falsa coerción de las Autoridades que afirman que su agenda de dominación asegura la seguridad social y libertad del caos moral .']}"
      ]
     },
     "execution_count": 6,
     "metadata": {},
     "output_type": "execute_result"
    }
   ],
   "source": [
    "subset[50:60]"
   ]
  },
  {
   "cell_type": "code",
   "execution_count": 8,
   "metadata": {},
   "outputs": [],
   "source": [
    "from paths import EXTERNAL_DIR"
   ]
  },
  {
   "cell_type": "code",
   "execution_count": 9,
   "metadata": {
    "id": "0QPIHz92R2Ql"
   },
   "outputs": [
    {
     "name": "stderr",
     "output_type": "stream",
     "text": [
      "[nltk_data] Downloading package stopwords to\n",
      "[nltk_data]     /Users/jssdev/Dev/Learning/Platzi/platzi-\n",
      "[nltk_data]     embeddings/data/external...\n",
      "[nltk_data]   Unzipping corpora/stopwords.zip.\n",
      "[nltk_data] Downloading package punkt to\n",
      "[nltk_data]     /Users/jssdev/Dev/Learning/Platzi/platzi-\n",
      "[nltk_data]     embeddings/data/external...\n",
      "[nltk_data]   Unzipping tokenizers/punkt.zip.\n"
     ]
    }
   ],
   "source": [
    "import nltk\n",
    "nltk.download('stopwords', download_dir=EXTERNAL_DIR)\n",
    "nltk.download('punkt', download_dir=EXTERNAL_DIR)\n",
    "\n",
    "from nltk.tokenize import word_tokenize"
   ]
  },
  {
   "cell_type": "markdown",
   "metadata": {
    "id": "bbtKlKd1UmF_"
   },
   "source": [
    "## Procesamiento de texto"
   ]
  },
  {
   "cell_type": "code",
   "execution_count": null,
   "metadata": {
    "id": "cpOhY7jyRATr"
   },
   "outputs": [],
   "source": [
    "\n",
    "    # extrae el texto de la entrada\n",
    "\n",
    "\n",
    "\n",
    "        # Convierte el texto a minúsculas\n",
    "\n",
    "\n",
    "        # Elimina URLs\n",
    "\n",
    "\n",
    "        # Elimina las menciones @ y '#' de las redes sociales\n",
    "\n",
    "\n",
    "        # Elimina los caracteres de puntuación\n",
    "\n",
    "\n",
    "        # Elimina los números\n",
    "\n",
    "\n",
    "        # Elimina las palabras cortas\n",
    "\n",
    "\n",
    "        # Elimina las palabras comunes (stop words)\n",
    "\n",
    "\n",
    "\n",
    "\n",
    "    # Devuelve el texto limpio\n",
    "\n"
   ]
  },
  {
   "cell_type": "code",
   "execution_count": null,
   "metadata": {
    "id": "t7hRWeSrZ59p"
   },
   "outputs": [],
   "source": []
  },
  {
   "cell_type": "code",
   "execution_count": null,
   "metadata": {
    "id": "xC_1SRrnYJWv"
   },
   "outputs": [],
   "source": []
  },
  {
   "cell_type": "markdown",
   "metadata": {
    "id": "4J-HBL-FVxKc"
   },
   "source": [
    "## Carga y uso de modelo de embeddings Word2Vec"
   ]
  },
  {
   "cell_type": "code",
   "execution_count": null,
   "metadata": {
    "id": "H7E121yKbljm"
   },
   "outputs": [],
   "source": [
    "model = Word2Vec()\n",
    "\n",
    "# Podemos guardar el modelo para uso futuro\n",
    "model.save(\"word2vec.model\")"
   ]
  },
  {
   "cell_type": "code",
   "execution_count": null,
   "metadata": {
    "id": "p-Qho2ckg0xd"
   },
   "outputs": [],
   "source": []
  },
  {
   "cell_type": "code",
   "execution_count": null,
   "metadata": {
    "id": "z1ssleSObsUc"
   },
   "outputs": [],
   "source": [
    "##comida, ser, reina, television\n"
   ]
  },
  {
   "cell_type": "code",
   "execution_count": null,
   "metadata": {
    "id": "ytaIZOJHiUrj"
   },
   "outputs": [],
   "source": []
  },
  {
   "cell_type": "markdown",
   "metadata": {
    "id": "_y9DpAyLWCVN"
   },
   "source": [
    "## Almacenamiento de embeddings"
   ]
  },
  {
   "cell_type": "code",
   "execution_count": null,
   "metadata": {
    "id": "vYeA70cVnQ_J"
   },
   "outputs": [],
   "source": []
  },
  {
   "cell_type": "code",
   "execution_count": null,
   "metadata": {
    "id": "-tiIoHVLn85G"
   },
   "outputs": [],
   "source": []
  }
 ],
 "metadata": {
  "colab": {
   "provenance": []
  },
  "kernelspec": {
   "display_name": "emb-py3.11",
   "language": "python",
   "name": "python3"
  },
  "language_info": {
   "codemirror_mode": {
    "name": "ipython",
    "version": 3
   },
   "file_extension": ".py",
   "mimetype": "text/x-python",
   "name": "python",
   "nbconvert_exporter": "python",
   "pygments_lexer": "ipython3",
   "version": "3.11.12"
  }
 },
 "nbformat": 4,
 "nbformat_minor": 0
}
