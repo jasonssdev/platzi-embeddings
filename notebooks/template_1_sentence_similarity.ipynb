{
 "cells": [
  {
   "cell_type": "markdown",
   "metadata": {
    "id": "uqUz4xv_PvFZ"
   },
   "source": [
    "# Comparar frases con un modelo de embeddings"
   ]
  },
  {
   "cell_type": "markdown",
   "metadata": {
    "id": "vVwMvG-pM94k"
   },
   "source": [
    "## Instalación de librería de embeddings"
   ]
  },
  {
   "cell_type": "code",
   "execution_count": 3,
   "metadata": {
    "id": "VOWFwoStfQ0I"
   },
   "outputs": [],
   "source": [
    "# !pip install -U sentence-transformers"
   ]
  },
  {
   "cell_type": "markdown",
   "metadata": {
    "id": "u2xuypwNNCNe"
   },
   "source": [
    "Carga de modelo y procesamiento de embeddings"
   ]
  },
  {
   "cell_type": "code",
   "execution_count": 4,
   "metadata": {},
   "outputs": [],
   "source": [
    "from sentence_transformers import SentenceTransformer, util\n"
   ]
  },
  {
   "cell_type": "code",
   "execution_count": null,
   "metadata": {},
   "outputs": [],
   "source": [
    "model = SentenceTransformer('all-MiniLM-L6-v2')\n",
    "\n",
    "#Lista de frases\n",
    "sentences = ['el gato juega afuera',\n",
    "            'me gusta tocar guitarra',\n",
    "            'me encanta la pasta',\n",
    "            'esta pelicula estuvo asombrosa',\n",
    "            'el perro esta afuera',\n",
    "            'te gusta la musica?',\n",
    "            'estuvo muy buena la pelicula',\n",
    "            'te gustaria una pizza?']\n",
    "\n",
    "#Cómputo de embeddings\n",
    "embeddings = model.encode(sentences)"
   ]
  },
  {
   "cell_type": "code",
   "execution_count": 6,
   "metadata": {},
   "outputs": [
    {
     "data": {
      "text/plain": [
       "array([[-0.03232959,  0.11775164, -0.04929117, ..., -0.00081675,\n",
       "        -0.03978726, -0.02792941],\n",
       "       [-0.03385798,  0.00732807, -0.04184825, ...,  0.04272258,\n",
       "        -0.02279515, -0.06084864],\n",
       "       [-0.05483961, -0.03731457, -0.01410468, ...,  0.11729006,\n",
       "         0.07456189, -0.09744949],\n",
       "       ...,\n",
       "       [ 0.02240627,  0.00977141,  0.01616965, ...,  0.02968123,\n",
       "         0.01667441, -0.05944225],\n",
       "       [ 0.02290077,  0.00147287,  0.00138932, ...,  0.08682211,\n",
       "         0.08835243, -0.13047367],\n",
       "       [-0.06596523,  0.03551985, -0.04087364, ...,  0.09201568,\n",
       "         0.00076541, -0.08679897]], dtype=float32)"
      ]
     },
     "execution_count": 6,
     "metadata": {},
     "output_type": "execute_result"
    }
   ],
   "source": [
    "embeddings"
   ]
  },
  {
   "cell_type": "markdown",
   "metadata": {
    "id": "iq2bXMAoN8z8"
   },
   "source": [
    "## Comparar frases con modelo de embeddings"
   ]
  },
  {
   "cell_type": "code",
   "execution_count": 7,
   "metadata": {
    "id": "Vmp10GdOjgak"
   },
   "outputs": [
    {
     "name": "stdout",
     "output_type": "stream",
     "text": [
      "esta pelicula estuvo asombrosa ----> estuvo muy buena la pelicula\n",
      "te gusta la musica? ----> te gustaria una pizza?\n",
      "el gato juega afuera ----> el perro esta afuera\n",
      "me gusta tocar guitarra ----> te gusta la musica?\n",
      "me encanta la pasta ----> te gustaria una pizza?\n"
     ]
    }
   ],
   "source": [
    "#Cálculo de similitudes coseno para cada frase con todas las demás frases\n",
    "cosine_scores = util.cos_sim(embeddings,embeddings)\n",
    "\n",
    "#Encuentra las parejas con los puntajes de similitud del coseno más altos\n",
    "pairs = []\n",
    "for i in range(len(cosine_scores)-1):\n",
    "    for j in range(i+1, len(cosine_scores)):\n",
    "        pairs.append({'index': [i, j], 'score': cosine_scores[i][j]})\n",
    "\n",
    "\n",
    "#Ordena los puntajes en orden descendente.\n",
    "pairs = sorted(pairs, key=lambda x: x['score'], reverse=True)\n",
    "\n",
    "for pair in pairs[0:5]:\n",
    "    i, j = pair['index']\n",
    "    print(\"{} ----> {}\".format(sentences[i], sentences[j]))\n"
   ]
  },
  {
   "cell_type": "code",
   "execution_count": null,
   "metadata": {},
   "outputs": [],
   "source": []
  }
 ],
 "metadata": {
  "colab": {
   "provenance": []
  },
  "kernelspec": {
   "display_name": "emb-py3.11",
   "language": "python",
   "name": "python3"
  },
  "language_info": {
   "codemirror_mode": {
    "name": "ipython",
    "version": 3
   },
   "file_extension": ".py",
   "mimetype": "text/x-python",
   "name": "python",
   "nbconvert_exporter": "python",
   "pygments_lexer": "ipython3",
   "version": "3.11.11"
  }
 },
 "nbformat": 4,
 "nbformat_minor": 0
}
